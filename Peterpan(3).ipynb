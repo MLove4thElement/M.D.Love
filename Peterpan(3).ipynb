{
  "nbformat": 4,
  "nbformat_minor": 0,
  "metadata": {
    "colab": {
      "name": "Peterpan(3).ipynb",
      "provenance": [],
      "collapsed_sections": []
    },
    "kernelspec": {
      "name": "python3",
      "display_name": "Python 3"
    },
    "language_info": {
      "name": "python"
    }
  },
  "cells": [
    {
      "cell_type": "code",
      "metadata": {
        "colab": {
          "base_uri": "https://localhost:8080/"
        },
        "id": "o6r8EkXCX_U8",
        "outputId": "a4a82e03-54e9-4c85-8695-6c74481350b0"
      },
      "source": [
        "import os\n",
        "# Find the latest version of spark 3.0  from http://www-us.apache.org/dist/spark/ and enter as the spark version\n",
        "# For example:\n",
        "spark_version = 'spark-3.0.1'\n",
        "# spark_version = 'spark-3.<enter version>'\n",
        "os.environ['SPARK_VERSION']=spark_version\n",
        "\n",
        "# Install Spark and Java\n",
        "!apt-get update\n",
        "!apt-get install openjdk-11-jdk-headless -qq > /dev/null\n",
        "!wget -q https://archive.apache.org/dist/spark/spark-3.0.1/spark-3.0.1-bin-hadoop2.7.tgz\n",
        "!tar xf spark-3.0.1-bin-hadoop2.7.tgz\n",
        "\n",
        "!pip install -q findspark\n",
        "\n",
        "# Set Environment Variables\n",
        "os.environ[\"JAVA_HOME\"] = \"/usr/lib/jvm/java-11-openjdk-amd64\"\n",
        "os.environ[\"SPARK_HOME\"] = f\"/content/spark-3.0.1-bin-hadoop2.7\"\n",
        "\n",
        "# Start a SparkSession\n",
        "import findspark\n",
        "findspark.init()"
      ],
      "execution_count": 1,
      "outputs": [
        {
          "output_type": "stream",
          "name": "stdout",
          "text": [
            "Get:1 http://security.ubuntu.com/ubuntu bionic-security InRelease [88.7 kB]\n",
            "Ign:2 https://developer.download.nvidia.com/compute/cuda/repos/ubuntu1804/x86_64  InRelease\n",
            "Ign:3 https://developer.download.nvidia.com/compute/machine-learning/repos/ubuntu1804/x86_64  InRelease\n",
            "Get:4 https://cloud.r-project.org/bin/linux/ubuntu bionic-cran40/ InRelease [3,626 B]\n",
            "Get:5 https://developer.download.nvidia.com/compute/cuda/repos/ubuntu1804/x86_64  Release [696 B]\n",
            "Hit:6 http://ppa.launchpad.net/c2d4u.team/c2d4u4.0+/ubuntu bionic InRelease\n",
            "Hit:7 https://developer.download.nvidia.com/compute/machine-learning/repos/ubuntu1804/x86_64  Release\n",
            "Hit:8 http://archive.ubuntu.com/ubuntu bionic InRelease\n",
            "Get:9 https://developer.download.nvidia.com/compute/cuda/repos/ubuntu1804/x86_64  Release.gpg [836 B]\n",
            "Get:10 http://archive.ubuntu.com/ubuntu bionic-updates InRelease [88.7 kB]\n",
            "Hit:11 http://ppa.launchpad.net/cran/libgit2/ubuntu bionic InRelease\n",
            "Get:12 http://security.ubuntu.com/ubuntu bionic-security/restricted amd64 Packages [633 kB]\n",
            "Get:13 http://security.ubuntu.com/ubuntu bionic-security/universe amd64 Packages [1,437 kB]\n",
            "Hit:14 http://ppa.launchpad.net/deadsnakes/ppa/ubuntu bionic InRelease\n",
            "Get:15 http://security.ubuntu.com/ubuntu bionic-security/main amd64 Packages [2,400 kB]\n",
            "Get:16 http://archive.ubuntu.com/ubuntu bionic-backports InRelease [74.6 kB]\n",
            "Hit:17 http://ppa.launchpad.net/graphics-drivers/ppa/ubuntu bionic InRelease\n",
            "Get:18 https://cloud.r-project.org/bin/linux/ubuntu bionic-cran40/ Packages [73.0 kB]\n",
            "Get:20 https://developer.download.nvidia.com/compute/cuda/repos/ubuntu1804/x86_64  Packages [808 kB]\n",
            "Get:21 http://archive.ubuntu.com/ubuntu bionic-updates/universe amd64 Packages [2,217 kB]\n",
            "Get:22 http://archive.ubuntu.com/ubuntu bionic-updates/main amd64 Packages [2,837 kB]\n",
            "Fetched 10.7 MB in 3s (3,312 kB/s)\n",
            "Reading package lists... Done\n"
          ]
        }
      ]
    },
    {
      "cell_type": "code",
      "metadata": {
        "id": "qSQYMSWFbywd"
      },
      "source": [
        "#import packages\n",
        "\n",
        "from pyspark.sql import SparkSession\n",
        "from pyspark.sql import Row\n",
        "from pyspark.sql.types import StructType,StructField,StringType, DateType,IntegerType\n",
        "from pyspark.sql.types import *\n",
        "\n",
        "# we are going to use this to time our queries.\n",
        "import time\n",
        "\n",
        "# Create a SparkSession\n",
        "spark = SparkSession.builder.appName(\"SparkSkillDrill\").getOrCreate()\n",
        "from pyspark import SparkFiles"
      ],
      "execution_count": 2,
      "outputs": []
    },
    {
      "cell_type": "code",
      "metadata": {
        "colab": {
          "base_uri": "https://localhost:8080/"
        },
        "id": "Z4a5XXOCb9mb",
        "outputId": "a87daebb-99d4-4270-b800-4098bbe94f3c"
      },
      "source": [
        "peter_pan_df = spark.read.text('peterpan.txt')\n",
        "peter_pan_df.show()"
      ],
      "execution_count": 3,
      "outputs": [
        {
          "output_type": "stream",
          "name": "stdout",
          "text": [
            "+--------------------+\n",
            "|               value|\n",
            "+--------------------+\n",
            "|All children, exc...|\n",
            "|Of course they li...|\n",
            "|The way Mr. Darli...|\n",
            "|Mr. Darling used ...|\n",
            "|Mrs. Darling was ...|\n",
            "|Wendy came first,...|\n",
            "|For a week or two...|\n",
            "|“Now don't interr...|\n",
            "|“I have one pound...|\n",
            "|“Of course we can...|\n",
            "|“Remember mumps,”...|\n",
            "|There was the sam...|\n",
            "|Mrs. Darling love...|\n",
            "|No nursery could ...|\n",
            "|He had his positi...|\n",
            "|Nana also trouble...|\n",
            "|Mrs. Darling firs...|\n",
            "|I don't know whet...|\n",
            "|Of course the Nev...|\n",
            "|Of all delectable...|\n",
            "+--------------------+\n",
            "only showing top 20 rows\n",
            "\n"
          ]
        }
      ]
    },
    {
      "cell_type": "code",
      "metadata": {
        "colab": {
          "base_uri": "https://localhost:8080/"
        },
        "id": "cmDBuMQscMG4",
        "outputId": "b6fc0668-ca46-4d3f-e8b3-6d8afa9bbbc5"
      },
      "source": [
        "from google.colab import drive\n",
        "drive.mount('/content/drive')"
      ],
      "execution_count": 4,
      "outputs": [
        {
          "output_type": "stream",
          "name": "stdout",
          "text": [
            "Mounted at /content/drive\n"
          ]
        }
      ]
    },
    {
      "cell_type": "code",
      "metadata": {
        "id": "q7mpKNjRg3se"
      },
      "source": [
        "peterpan_data = spark.sparkContext.textFile('peterpan.txt')\n",
        "peterpan_data_split = peterpan_data.flatMap(lambda line: line.split(\" \"))"
      ],
      "execution_count": 5,
      "outputs": []
    },
    {
      "cell_type": "code",
      "metadata": {
        "id": "irGenqKWhDxA"
      },
      "source": [
        "peterpan_data_count = peterpan_data_split.map(lambda word: (word, 1))"
      ],
      "execution_count": 6,
      "outputs": []
    },
    {
      "cell_type": "code",
      "metadata": {
        "id": "Wy_XrEehhN46"
      },
      "source": [
        "from operator import add\n",
        "peterpan_data_count_all = peterpan_data_count.reduceByKey(add)"
      ],
      "execution_count": 7,
      "outputs": []
    },
    {
      "cell_type": "code",
      "metadata": {
        "id": "UMVP6VYKhOF5"
      },
      "source": [
        "\n",
        "peterpan_data_count_all.saveAsTextFile('wordCnts.txt')"
      ],
      "execution_count": 8,
      "outputs": []
    },
    {
      "cell_type": "code",
      "metadata": {
        "colab": {
          "base_uri": "https://localhost:8080/"
        },
        "id": "Qjgg5VpBhb86",
        "outputId": "1f60b2b7-6884-4b29-f574-6cbf4ce5bc5a"
      },
      "source": [
        "\n",
        "spark.read.text('wordCnts.txt').show()"
      ],
      "execution_count": 9,
      "outputs": [
        {
          "output_type": "stream",
          "name": "stdout",
          "text": [
            "+--------------+\n",
            "|         value|\n",
            "+--------------+\n",
            "|  ('one,', 15)|\n",
            "| ('They', 101)|\n",
            "|  ('know', 64)|\n",
            "|   ('way', 58)|\n",
            "|  ('was', 897)|\n",
            "|    ('One', 9)|\n",
            "| ('when', 151)|\n",
            "|   ('two', 36)|\n",
            "|  ('years', 3)|\n",
            "|   ('in', 623)|\n",
            "|('garden,', 1)|\n",
            "|('plucked', 2)|\n",
            "| ('flower', 2)|\n",
            "|   ('ran', 17)|\n",
            "|  ('her', 361)|\n",
            "|('suppose', 7)|\n",
            "|  ('must', 59)|\n",
            "| ('have', 243)|\n",
            "|('looked', 33)|\n",
            "|('rather', 40)|\n",
            "+--------------+\n",
            "only showing top 20 rows\n",
            "\n"
          ]
        }
      ]
    },
    {
      "cell_type": "markdown",
      "metadata": {
        "id": "7Fygqwyyi1RQ"
      },
      "source": [
        "# New Section"
      ]
    }
  ]
}