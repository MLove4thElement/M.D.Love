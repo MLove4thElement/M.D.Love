{
 "cells": [
  {
   "cell_type": "code",
   "execution_count": 50,
   "source": [
    "# Import the 'os' and 'csv' libraries\r\n",
    "import os \r\n",
    "import csv\r\n",
    "import pandas as pd\r\n"
   ],
   "outputs": [],
   "metadata": {}
  },
  {
   "cell_type": "code",
   "execution_count": 5,
   "source": [
    "# Set path for importing our CSV file\r\n",
    "yahoo = os.path.join('../', 'Resources', 'yahoo_stock.csv') qa"
   ],
   "outputs": [],
   "metadata": {}
  },
  {
   "cell_type": "code",
   "execution_count": 62,
   "source": [
    "# Open a connection to the comma-delimited csv file \r\n",
    "with open(yahoo) as csvfile:\r\n",
    "\r\n",
    "    # Read in the CSV file using csv.DictReader() class\r\n",
    "    reader = csv.DictReader(open(yahoo))\r\n",
    "    \r\n",
    "    # Create a variable to save our print row and greatest daily percent change\r\n",
    "    Printrow = 0\r\n",
    "    Hgh_pct = 0\r\n",
    "\r\n",
    "    # Iterate through each row\r\n",
    "        \r\n",
    "        # For each row, calculate the daily percent change\r\n",
    "        \r\n",
    "        # Check if the absolute daily percent change is greater than the previous max\r\n",
    "            \r\n",
    "            # If true, store new greatest daily percent change and print row\r\n",
    "            \r\n",
    "    # Print out the date, stock high, stock low, volume and percent change for the day with the greatest percent change\r\n",
    "    \r\n",
    "    dpc = 0\r\n",
    "    for row in reader: \r\n",
    "        dpc = abs(( (float(row['Close']) - float(row['Open']) ) / float(row['Open'])) * 100)\r\n",
    "        if dpc > Hgh_pct:\r\n",
    "             hgh_pct = dpc\r\n",
    "             printrow = row\r\n",
    "                 \r\n",
    "    \r\n",
    "                 \r\n"
   ],
   "outputs": [],
   "metadata": {}
  },
  {
   "cell_type": "code",
   "execution_count": 63,
   "source": [
    "print(Hgh_pct)\n",
    "print(printrow)"
   ],
   "outputs": [
    {
     "output_type": "stream",
     "name": "stdout",
     "text": [
      "0\n",
      "{'Date': '11/20/2020', 'High': '3581.22998', 'Low': '3556.850098', 'Open': '3579.310059', 'Close': '3557.540039', 'Volume': '2236661930', 'Adj Close': '3557.540039'}\n"
     ]
    }
   ],
   "metadata": {}
  },
  {
   "cell_type": "code",
   "execution_count": null,
   "source": [],
   "outputs": [],
   "metadata": {}
  }
 ],
 "metadata": {
  "kernelspec": {
   "display_name": "Python 3",
   "language": "python",
   "name": "python3"
  },
  "language_info": {
   "codemirror_mode": {
    "name": "ipython",
    "version": 3
   },
   "file_extension": ".py",
   "mimetype": "text/x-python",
   "name": "python",
   "nbconvert_exporter": "python",
   "pygments_lexer": "ipython3",
   "version": "3.8.8"
  }
 },
 "nbformat": 4,
 "nbformat_minor": 4
}