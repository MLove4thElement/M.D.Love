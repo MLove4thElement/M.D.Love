{
 "cells": [
  {
   "cell_type": "code",
   "execution_count": 50,
   "metadata": {},
   "outputs": [],
   "source": [
    "# Import the 'os' and 'csv' libraries\n",
    "import os \n",
    "import csv\n",
    "import pandas as pd\n"
   ]
  },
  {
   "cell_type": "code",
   "execution_count": 5,
   "metadata": {},
   "outputs": [],
   "source": [
    "# Set path for importing our CSV file\n",
    "yahoo = os.path.join('../', 'Resources', 'yahoo_stock.csv')"
   ]
  },
  {
   "cell_type": "code",
   "execution_count": 62,
   "metadata": {},
   "outputs": [],
   "source": [
    "# Open a connection to the comma-delimited csv file \n",
    "with open(yahoo) as csvfile:\n",
    "\n",
    "    # Read in the CSV file using csv.DictReader() class\n",
    "    reader = csv.DictReader(open(yahoo))\n",
    "    \n",
    "    # Create a variable to save our print row and greatest daily percent change\n",
    "    Printrow = 0\n",
    "    Hgh_pct = 0\n",
    "\n",
    "    # Iterate through each row\n",
    "        \n",
    "        # For each row, calculate the daily percent change\n",
    "        \n",
    "        # Check if the absolute daily percent change is greater than the previous max\n",
    "            \n",
    "            # If true, store new greatest daily percent change and print row\n",
    "            \n",
    "    # Print out the date, stock high, stock low, volume and percent change for the day with the greatest percent change\n",
    "    \n",
    "    dpc = 0\n",
    "    for row in reader: \n",
    "        dpc = abs(( (float(row['Close']) - float(row['Open']) ) / float(row['Open'])) * 100)\n",
    "        if dpc > Hgh_pct:\n",
    "             hgh_pct = dpc\n",
    "             printrow = row\n",
    "                 \n",
    "    \n",
    "                 \n"
   ]
  },
  {
   "cell_type": "code",
   "execution_count": 63,
   "metadata": {},
   "outputs": [
    {
     "name": "stdout",
     "output_type": "stream",
     "text": [
      "0\n",
      "{'Date': '11/20/2020', 'High': '3581.22998', 'Low': '3556.850098', 'Open': '3579.310059', 'Close': '3557.540039', 'Volume': '2236661930', 'Adj Close': '3557.540039'}\n"
     ]
    }
   ],
   "source": [
    "print(Hgh_pct)\n",
    "print(printrow)"
   ]
  },
  {
   "cell_type": "code",
   "execution_count": null,
   "metadata": {},
   "outputs": [],
   "source": []
  }
 ],
 "metadata": {
  "kernelspec": {
   "display_name": "Python 3",
   "language": "python",
   "name": "python3"
  },
  "language_info": {
   "codemirror_mode": {
    "name": "ipython",
    "version": 3
   },
   "file_extension": ".py",
   "mimetype": "text/x-python",
   "name": "python",
   "nbconvert_exporter": "python",
   "pygments_lexer": "ipython3",
   "version": "3.8.8"
  }
 },
 "nbformat": 4,
 "nbformat_minor": 4
}
